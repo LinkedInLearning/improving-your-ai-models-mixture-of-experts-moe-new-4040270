{
  "nbformat": 4,
  "nbformat_minor": 0,
  "metadata": {
    "colab": {
      "provenance": [],
      "gpuType": "T4"
    },
    "kernelspec": {
      "name": "python3",
      "display_name": "Python 3"
    },
    "language_info": {
      "name": "python"
    }
  },
  "cells": [
    {
      "cell_type": "markdown",
      "source": [
        "# **Import modules**"
      ],
      "metadata": {
        "id": "lXYH68n4M8Xu"
      }
    },
    {
      "cell_type": "code",
      "source": [
        "import torch\n",
        "import torch.nn as nn\n",
        "import torch.nn.functional as F\n",
        "import torch\n",
        "from torch.utils.data import TensorDataset, DataLoader, Dataset\n",
        "from torchvision import transforms\n",
        "import matplotlib.pyplot as plt\n",
        "import h5py\n",
        "import pandas as pd\n",
        "from sklearn.preprocessing import LabelEncoder, StandardScaler\n",
        "import numpy as np"
      ],
      "metadata": {
        "id": "yM_swBpANME4"
      },
      "execution_count": null,
      "outputs": []
    },
    {
      "cell_type": "markdown",
      "source": [
        "# **Load Dataset**"
      ],
      "metadata": {
        "id": "IfzZEjR5D4er"
      }
    },
    {
      "cell_type": "code",
      "source": [
        "from google.colab import drive\n",
        "drive.mount('/content/drive')"
      ],
      "metadata": {
        "colab": {
          "base_uri": "https://localhost:8080/"
        },
        "id": "GP91GwqyD9_u",
        "outputId": "ad0ca96b-4e9a-4759-e704-8174655a558f"
      },
      "execution_count": null,
      "outputs": [
        {
          "output_type": "stream",
          "name": "stdout",
          "text": [
            "Drive already mounted at /content/drive; to attempt to forcibly remount, call drive.mount(\"/content/drive\", force_remount=True).\n"
          ]
        }
      ]
    },
    {
      "cell_type": "code",
      "source": [
        "df = pd.read_csv(\"/content/drive/MyDrive/star_classification.csv\")\n",
        "df.columns"
      ],
      "metadata": {
        "colab": {
          "base_uri": "https://localhost:8080/"
        },
        "id": "fGtsHxDRD6bE",
        "outputId": "9ca9061c-6e93-44bd-fb14-e644aa53c475"
      },
      "execution_count": null,
      "outputs": [
        {
          "output_type": "execute_result",
          "data": {
            "text/plain": [
              "Index(['obj_ID', 'alpha', 'delta', 'u', 'g', 'r', 'i', 'z', 'run_ID',\n",
              "       'rerun_ID', 'cam_col', 'field_ID', 'spec_obj_ID', 'class', 'redshift',\n",
              "       'plate', 'MJD', 'fiber_ID'],\n",
              "      dtype='object')"
            ]
          },
          "metadata": {},
          "execution_count": 18
        }
      ]
    },
    {
      "cell_type": "code",
      "source": [
        "df['class'].unique()"
      ],
      "metadata": {
        "colab": {
          "base_uri": "https://localhost:8080/"
        },
        "id": "Ec2UNbfsIKbD",
        "outputId": "30e4a2e2-c5fc-477a-a9a4-76744ba7f066"
      },
      "execution_count": null,
      "outputs": [
        {
          "output_type": "execute_result",
          "data": {
            "text/plain": [
              "array(['GALAXY', 'QSO', 'STAR'], dtype=object)"
            ]
          },
          "metadata": {},
          "execution_count": 19
        }
      ]
    },
    {
      "cell_type": "code",
      "source": [
        "\n",
        "input_cols = ['u', 'g', 'r', 'i', 'z', 'redshift']\n",
        "X = df[input_cols].values  # shape (N, 6)\n",
        "\n",
        "#  Encode class labels (e.g., STAR=0, GALAXY=1, QSO=2)\n",
        "label_encoder = LabelEncoder()\n",
        "y = label_encoder.fit_transform(df['class'])  # shape (N,)\n",
        "\n",
        "#  Normalize inputs\n",
        "scaler = StandardScaler()\n",
        "X = scaler.fit_transform(X)"
      ],
      "metadata": {
        "id": "ufSZgDEaEQqS"
      },
      "execution_count": null,
      "outputs": []
    },
    {
      "cell_type": "markdown",
      "source": [
        "# **Dataset class**"
      ],
      "metadata": {
        "id": "FcX6HrlP2q4W"
      }
    },
    {
      "cell_type": "code",
      "source": [
        "\n",
        "class StarDataset(Dataset):\n",
        "    def __init__(self, X, y):\n",
        "        self.X = torch.tensor(X, dtype=torch.float32)\n",
        "        self.y = torch.tensor(y, dtype=torch.long)\n",
        "\n",
        "    def __len__(self):\n",
        "        return len(self.y)\n",
        "\n",
        "    def __getitem__(self, idx):\n",
        "        return self.X[idx], self.y[idx]\n",
        "\n",
        "train_loader = DataLoader(StarDataset(X, y), batch_size=32, shuffle=True)"
      ],
      "metadata": {
        "id": "ao_f6bMaE863"
      },
      "execution_count": null,
      "outputs": []
    },
    {
      "cell_type": "markdown",
      "source": [
        "# **The Expert**"
      ],
      "metadata": {
        "id": "XbA65i-VNVet"
      }
    },
    {
      "cell_type": "code",
      "source": [
        "\n",
        "class Expert(nn.Module):\n",
        "    def __init__(self, inp_dim, hid_dim, out_dim, dropout=0.1, use_norm=True):\n",
        "        super().__init__()\n",
        "        self.fc1 = nn.Linear(inp_dim, hid_dim)\n",
        "        self.norm1 = nn.LayerNorm(hid_dim) if use_norm else nn.Identity()\n",
        "        self.dropout = nn.Dropout(dropout)\n",
        "        self.act = nn.GELU()\n",
        "        self.fc2 = nn.Linear(hid_dim, out_dim)\n",
        "        self.norm2 = nn.LayerNorm(out_dim) if use_norm else nn.Identity()\n",
        "\n",
        "    def forward(self, x):\n",
        "        x = self.dropout(self.act(self.norm1(self.fc1(x))))\n",
        "        return self.norm2(self.fc2(x))"
      ],
      "metadata": {
        "id": "BkDdKizwNbEA"
      },
      "execution_count": null,
      "outputs": []
    },
    {
      "cell_type": "markdown",
      "source": [
        "# **The Router**"
      ],
      "metadata": {
        "id": "3mUtWlusR82M"
      }
    },
    {
      "cell_type": "code",
      "source": [
        "\n",
        "class Router(nn.Module):\n",
        "    def __init__(self, inp_dim, n_experts, routing_type='softmax', top_k=2, noisy=False, noise_std=1.0):\n",
        "        super().__init__()\n",
        "        assert routing_type in ['softmax', 'topk'], \"routing_type must be 'softmax' or 'topk'\"\n",
        "        self.fc = nn.Linear(inp_dim, n_experts)\n",
        "        self.routing_type = routing_type\n",
        "        self.top_k = top_k\n",
        "        self.noisy = noisy\n",
        "        self.noise_std = noise_std\n",
        "\n",
        "    def forward(self, x, return_logits=False):\n",
        "        logits = self.fc(x)  # [B, n_experts]\n",
        "\n",
        "        if self.noisy:\n",
        "            noise = torch.randn_like(logits) * self.noise_std\n",
        "            logits = logits + noise\n",
        "\n",
        "        if self.routing_type == 'softmax':\n",
        "            scores = F.softmax(logits, dim=-1)  # [B, n_experts]\n",
        "            return (scores, logits) if return_logits else scores\n",
        "\n",
        "        elif self.routing_type == 'topk':\n",
        "            scores = F.softmax(logits, dim=-1)  # apply softmax first\n",
        "            top_k_vals, top_k_indices = torch.topk(scores, k=self.top_k, dim=-1)  # [B, k], [B, k]\n",
        "            top_k_vals = top_k_vals / (top_k_vals.sum(dim=-1, keepdim=True) + 1e-9)  # normalize\n",
        "            return ((top_k_indices, top_k_vals), logits) if return_logits else (top_k_indices, top_k_vals)\n"
      ],
      "metadata": {
        "id": "eXsQkKXWR_MX"
      },
      "execution_count": null,
      "outputs": []
    },
    {
      "cell_type": "markdown",
      "source": [
        "# **The Mixture of Experts model**"
      ],
      "metadata": {
        "id": "WDOIademU3ed"
      }
    },
    {
      "cell_type": "code",
      "source": [
        "# 5. MoE\n",
        "class Mixture_of_Experts(nn.Module):\n",
        "    def __init__(self, inp_dim, hid_dim, out_dim, n_experts, k=2, routing_type='topk'):\n",
        "        super().__init__()\n",
        "        self.n_experts = n_experts\n",
        "        self.k = k\n",
        "        self.routing_type = routing_type\n",
        "        self.experts = nn.ModuleList([Expert(inp_dim, hid_dim, out_dim) for _ in range(n_experts)])\n",
        "        self.router = Router(inp_dim, n_experts, routing_type=routing_type, top_k=k)\n",
        "\n",
        "    def forward(self, x):\n",
        "        if self.routing_type == 'softmax':\n",
        "            scores = self.router(x)  # (B, n_experts)\n",
        "            expert_outputs = torch.stack([expert(x) for expert in self.experts], dim=1)\n",
        "            return (expert_outputs * scores.unsqueeze(-1)).sum(dim=1)\n",
        "        else:\n",
        "            idxs, vals = self.router(x)\n",
        "            all_outputs = torch.stack([expert(x) for expert in self.experts], dim=1)\n",
        "            selected = torch.gather(all_outputs, 1, idxs.unsqueeze(-1).expand(-1, -1, all_outputs.shape[-1]))\n",
        "            return (selected * vals.unsqueeze(-1)).sum(dim=1)\n"
      ],
      "metadata": {
        "id": "coh13kp7U6Ii"
      },
      "execution_count": null,
      "outputs": []
    },
    {
      "cell_type": "markdown",
      "source": [
        "# **Initialize the Model, Criterion, and Optimizer**"
      ],
      "metadata": {
        "id": "ufXL2L7YcVhG"
      }
    },
    {
      "cell_type": "code",
      "source": [
        "inp_dim = X.shape[1]\n",
        "hid_dim = 128\n",
        "out_dim = len(np.unique(y))\n",
        "n_experts = 8\n",
        "k = 2\n",
        "\n",
        "moe_model_topk = Mixture_of_Experts(\n",
        "    inp_dim, hid_dim, out_dim, n_experts, k, routing_type='topk'\n",
        ")\n",
        "moe_model_softmax = Mixture_of_Experts(\n",
        "    inp_dim, hid_dim, out_dim, n_experts, k, routing_type='topk'\n",
        ")\n",
        "criterion = nn.CrossEntropyLoss()\n",
        "\n",
        "optimizer_topk = torch.optim.Adam(moe_model_topk.parameters(), lr=1e-3)\n",
        "optimizer_softmax = torch.optim.Adam(moe_model_softmax.parameters(), lr=1e-3)\n",
        "\n",
        "device = 'cuda' if torch.cuda.is_available() else 'cpu'"
      ],
      "metadata": {
        "id": "OJ2vSgSHcZc9"
      },
      "execution_count": null,
      "outputs": []
    },
    {
      "cell_type": "markdown",
      "source": [
        "# **Training the MoE model**"
      ],
      "metadata": {
        "id": "Q31yiDOVYMRV"
      }
    },
    {
      "cell_type": "code",
      "source": [
        "def train_mixture_of_experts(model, dataloader, criterion, optimizer, n_epochs=10, device='cpu'):\n",
        "    model.to(device)\n",
        "    model.train()\n",
        "    for epoch in range(n_epochs):\n",
        "        total_loss = 0.0\n",
        "        for x_batch, y_batch in dataloader:\n",
        "            x_batch, y_batch = x_batch.to(device), y_batch.to(device)\n",
        "            optimizer.zero_grad()\n",
        "            preds = model(x_batch)\n",
        "            loss = criterion(preds, y_batch)\n",
        "            loss.backward()\n",
        "            optimizer.step()\n",
        "            total_loss += loss.item()\n",
        "        print(f\"Epoch {epoch+1}: Loss = {total_loss/len(dataloader):.4f}\")"
      ],
      "metadata": {
        "id": "Tu4_VIlWdU6I"
      },
      "execution_count": null,
      "outputs": []
    },
    {
      "cell_type": "code",
      "source": [
        "print(\"\\n Training using Soft-gating.....\")\n",
        "train_mixture_of_experts(moe_model_softmax, train_loader, criterion, optimizer_softmax, n_epochs=100, device=device)\n",
        "\n",
        "print(\"\\n Training using Top-k gating.....\")\n",
        "train_mixture_of_experts(moe_model_topk, train_loader, criterion, optimizer_topk, n_epochs=100, device=device)\n",
        "\n"
      ],
      "metadata": {
        "colab": {
          "base_uri": "https://localhost:8080/"
        },
        "id": "XAp-TtZQdLKN",
        "outputId": "0a5a40c6-e435-42de-8cf6-cf25c881312d"
      },
      "execution_count": null,
      "outputs": [
        {
          "output_type": "stream",
          "name": "stdout",
          "text": [
            "\n",
            " Training using Soft-gating.....\n",
            "Epoch 1: Loss = 0.1954\n",
            "Epoch 2: Loss = 0.1229\n",
            "Epoch 3: Loss = 0.1157\n",
            "Epoch 4: Loss = 0.1104\n",
            "Epoch 5: Loss = 0.1068\n",
            "Epoch 6: Loss = 0.1073\n",
            "Epoch 7: Loss = 0.1046\n",
            "Epoch 8: Loss = 0.1032\n",
            "Epoch 9: Loss = 0.1034\n",
            "Epoch 10: Loss = 0.1022\n",
            "Epoch 11: Loss = 0.1015\n",
            "Epoch 12: Loss = 0.1012\n",
            "Epoch 13: Loss = 0.1011\n",
            "Epoch 14: Loss = 0.0994\n",
            "Epoch 15: Loss = 0.0984\n",
            "Epoch 16: Loss = 0.0991\n",
            "Epoch 17: Loss = 0.0975\n",
            "Epoch 18: Loss = 0.0974\n",
            "Epoch 19: Loss = 0.0968\n",
            "Epoch 20: Loss = 0.0980\n",
            "Epoch 21: Loss = 0.0967\n",
            "Epoch 22: Loss = 0.0971\n",
            "Epoch 23: Loss = 0.0961\n",
            "Epoch 24: Loss = 0.0953\n",
            "Epoch 25: Loss = 0.0954\n",
            "Epoch 26: Loss = 0.0955\n",
            "Epoch 27: Loss = 0.0965\n",
            "Epoch 28: Loss = 0.0952\n",
            "Epoch 29: Loss = 0.0947\n",
            "Epoch 30: Loss = 0.0941\n",
            "Epoch 31: Loss = 0.0942\n",
            "Epoch 32: Loss = 0.0943\n",
            "Epoch 33: Loss = 0.0946\n",
            "Epoch 34: Loss = 0.0942\n",
            "Epoch 35: Loss = 0.0949\n",
            "Epoch 36: Loss = 0.0932\n",
            "Epoch 37: Loss = 0.0936\n",
            "Epoch 38: Loss = 0.0927\n",
            "Epoch 39: Loss = 0.0926\n",
            "Epoch 40: Loss = 0.0913\n",
            "Epoch 41: Loss = 0.0941\n",
            "Epoch 42: Loss = 0.0914\n",
            "Epoch 43: Loss = 0.0927\n",
            "Epoch 44: Loss = 0.0920\n",
            "Epoch 45: Loss = 0.0943\n",
            "Epoch 46: Loss = 0.0911\n",
            "Epoch 47: Loss = 0.0923\n",
            "Epoch 48: Loss = 0.0950\n",
            "Epoch 49: Loss = 0.0912\n",
            "Epoch 50: Loss = 0.0924\n",
            "Epoch 51: Loss = 0.0916\n",
            "Epoch 52: Loss = 0.0921\n",
            "Epoch 53: Loss = 0.0915\n",
            "Epoch 54: Loss = 0.0919\n",
            "Epoch 55: Loss = 0.0918\n",
            "Epoch 56: Loss = 0.0913\n",
            "Epoch 57: Loss = 0.0911\n",
            "Epoch 58: Loss = 0.0912\n",
            "Epoch 59: Loss = 0.0897\n",
            "Epoch 60: Loss = 0.0922\n",
            "Epoch 61: Loss = 0.0907\n",
            "Epoch 62: Loss = 0.0903\n",
            "Epoch 63: Loss = 0.0904\n",
            "Epoch 64: Loss = 0.0902\n",
            "Epoch 65: Loss = 0.0918\n",
            "Epoch 66: Loss = 0.0909\n",
            "Epoch 67: Loss = 0.0901\n",
            "Epoch 68: Loss = 0.0901\n",
            "Epoch 69: Loss = 0.0892\n",
            "Epoch 70: Loss = 0.0899\n",
            "Epoch 71: Loss = 0.0889\n",
            "Epoch 72: Loss = 0.0894\n",
            "Epoch 73: Loss = 0.0893\n",
            "Epoch 74: Loss = 0.0890\n",
            "Epoch 75: Loss = 0.0900\n",
            "Epoch 76: Loss = 0.0908\n",
            "Epoch 77: Loss = 0.0885\n",
            "Epoch 78: Loss = 0.0890\n",
            "Epoch 79: Loss = 0.0891\n",
            "Epoch 80: Loss = 0.0894\n",
            "Epoch 81: Loss = 0.0886\n",
            "Epoch 82: Loss = 0.0878\n",
            "Epoch 83: Loss = 0.0882\n",
            "Epoch 84: Loss = 0.0883\n",
            "Epoch 85: Loss = 0.0879\n",
            "Epoch 86: Loss = 0.0876\n",
            "Epoch 87: Loss = 0.0877\n",
            "Epoch 88: Loss = 0.0872\n",
            "Epoch 89: Loss = 0.0888\n",
            "Epoch 90: Loss = 0.0887\n",
            "Epoch 91: Loss = 0.0880\n",
            "Epoch 92: Loss = 0.0882\n",
            "Epoch 93: Loss = 0.0877\n",
            "Epoch 94: Loss = 0.0878\n",
            "Epoch 95: Loss = 0.0874\n",
            "Epoch 96: Loss = 0.0890\n",
            "Epoch 97: Loss = 0.0876\n",
            "Epoch 98: Loss = 0.0868\n",
            "Epoch 99: Loss = 0.0875\n",
            "Epoch 100: Loss = 0.0876\n",
            "\n",
            " Training using Top-k gating.....\n",
            "Epoch 1: Loss = 0.2072\n",
            "Epoch 2: Loss = 0.1311\n",
            "Epoch 3: Loss = 0.1174\n",
            "Epoch 4: Loss = 0.1128\n",
            "Epoch 5: Loss = 0.1094\n",
            "Epoch 6: Loss = 0.1091\n",
            "Epoch 7: Loss = 0.1074\n",
            "Epoch 8: Loss = 0.1038\n",
            "Epoch 9: Loss = 0.1024\n",
            "Epoch 10: Loss = 0.1016\n",
            "Epoch 11: Loss = 0.1010\n",
            "Epoch 12: Loss = 0.0997\n",
            "Epoch 13: Loss = 0.1007\n",
            "Epoch 14: Loss = 0.0999\n",
            "Epoch 15: Loss = 0.0980\n",
            "Epoch 16: Loss = 0.0973\n",
            "Epoch 17: Loss = 0.0979\n",
            "Epoch 18: Loss = 0.0967\n",
            "Epoch 19: Loss = 0.0986\n",
            "Epoch 20: Loss = 0.0960\n",
            "Epoch 21: Loss = 0.0966\n",
            "Epoch 22: Loss = 0.0961\n",
            "Epoch 23: Loss = 0.0941\n",
            "Epoch 24: Loss = 0.0953\n",
            "Epoch 25: Loss = 0.0968\n",
            "Epoch 26: Loss = 0.0946\n",
            "Epoch 27: Loss = 0.0962\n",
            "Epoch 28: Loss = 0.0942\n",
            "Epoch 29: Loss = 0.0931\n",
            "Epoch 30: Loss = 0.0947\n",
            "Epoch 31: Loss = 0.0946\n",
            "Epoch 32: Loss = 0.0930\n",
            "Epoch 33: Loss = 0.0937\n",
            "Epoch 34: Loss = 0.0928\n",
            "Epoch 35: Loss = 0.0926\n",
            "Epoch 36: Loss = 0.0923\n",
            "Epoch 37: Loss = 0.0926\n",
            "Epoch 38: Loss = 0.0921\n",
            "Epoch 39: Loss = 0.0918\n",
            "Epoch 40: Loss = 0.0919\n",
            "Epoch 41: Loss = 0.0913\n",
            "Epoch 42: Loss = 0.0943\n",
            "Epoch 43: Loss = 0.0918\n",
            "Epoch 44: Loss = 0.0915\n",
            "Epoch 45: Loss = 0.0905\n",
            "Epoch 46: Loss = 0.0908\n",
            "Epoch 47: Loss = 0.0914\n",
            "Epoch 48: Loss = 0.0928\n",
            "Epoch 49: Loss = 0.0906\n",
            "Epoch 50: Loss = 0.0903\n",
            "Epoch 51: Loss = 0.0911\n",
            "Epoch 52: Loss = 0.0909\n",
            "Epoch 53: Loss = 0.0899\n",
            "Epoch 54: Loss = 0.0898\n",
            "Epoch 55: Loss = 0.0903\n",
            "Epoch 56: Loss = 0.0903\n",
            "Epoch 57: Loss = 0.0899\n",
            "Epoch 58: Loss = 0.0890\n",
            "Epoch 59: Loss = 0.0897\n",
            "Epoch 60: Loss = 0.0894\n",
            "Epoch 61: Loss = 0.0892\n",
            "Epoch 62: Loss = 0.0890\n",
            "Epoch 63: Loss = 0.0895\n",
            "Epoch 64: Loss = 0.0890\n",
            "Epoch 65: Loss = 0.0892\n",
            "Epoch 66: Loss = 0.0887\n",
            "Epoch 67: Loss = 0.0884\n",
            "Epoch 68: Loss = 0.0885\n",
            "Epoch 69: Loss = 0.0885\n",
            "Epoch 70: Loss = 0.0890\n",
            "Epoch 71: Loss = 0.0876\n",
            "Epoch 72: Loss = 0.0889\n",
            "Epoch 73: Loss = 0.0883\n",
            "Epoch 74: Loss = 0.0884\n",
            "Epoch 75: Loss = 0.0875\n",
            "Epoch 76: Loss = 0.0874\n",
            "Epoch 77: Loss = 0.0878\n",
            "Epoch 78: Loss = 0.0880\n",
            "Epoch 79: Loss = 0.0868\n",
            "Epoch 80: Loss = 0.0880\n",
            "Epoch 81: Loss = 0.0871\n",
            "Epoch 82: Loss = 0.0874\n",
            "Epoch 83: Loss = 0.0878\n",
            "Epoch 84: Loss = 0.0882\n",
            "Epoch 85: Loss = 0.0864\n",
            "Epoch 86: Loss = 0.0870\n",
            "Epoch 87: Loss = 0.0867\n",
            "Epoch 88: Loss = 0.0877\n",
            "Epoch 89: Loss = 0.0876\n",
            "Epoch 90: Loss = 0.0877\n",
            "Epoch 91: Loss = 0.0868\n",
            "Epoch 92: Loss = 0.0875\n",
            "Epoch 93: Loss = 0.0860\n",
            "Epoch 94: Loss = 0.0865\n",
            "Epoch 95: Loss = 0.0866\n",
            "Epoch 96: Loss = 0.0869\n",
            "Epoch 97: Loss = 0.0860\n",
            "Epoch 98: Loss = 0.0859\n",
            "Epoch 99: Loss = 0.0866\n",
            "Epoch 100: Loss = 0.0858\n"
          ]
        }
      ]
    },
    {
      "cell_type": "markdown",
      "source": [
        "# **Visualization of expert-usage**"
      ],
      "metadata": {
        "id": "fR4VdaV6tadA"
      }
    },
    {
      "cell_type": "code",
      "source": [
        "import matplotlib.pyplot as plt\n",
        "import numpy as np\n",
        "import torch\n",
        "\n",
        "def visualize_expert_specialization_side_by_side(model_softmax=None, model_topk=None, dataloader=None, device='cpu', class_names=None):\n",
        "    def get_distribution(model):\n",
        "        model.eval()\n",
        "        model.to(device)\n",
        "\n",
        "        n_classes = len(torch.unique(next(iter(dataloader))[1]))\n",
        "        expert_class_counts = torch.zeros((model.n_experts, n_classes), device=device)\n",
        "\n",
        "        with torch.no_grad():\n",
        "            for inps, tgts in dataloader:\n",
        "                inps, tgts = inps.to(device), tgts.to(device)\n",
        "                if model.routing_type == 'softmax':\n",
        "                    router_scores = model.router(inps)\n",
        "                    if isinstance(router_scores, tuple):\n",
        "                        router_scores = router_scores[0]\n",
        "                    max_experts = torch.argmax(router_scores, dim=-1)\n",
        "                else:\n",
        "                    topk_indices, _ = model.router(inps)\n",
        "                    max_experts = topk_indices[:, 0]\n",
        "\n",
        "                for expert_idx, label in zip(max_experts, tgts):\n",
        "                    expert_class_counts[expert_idx, label] += 1\n",
        "\n",
        "        dist = expert_class_counts.cpu().numpy()\n",
        "        row_sums = dist.sum(axis=1, keepdims=True)\n",
        "        row_sums[row_sums == 0] = 1  # Prevent divide-by-zero\n",
        "        dist = dist / row_sums\n",
        "        return dist, expert_class_counts.cpu().numpy(), n_classes\n",
        "\n",
        "    n_models = int(model_softmax is not None) + int(model_topk is not None)\n",
        "    if n_models == 0:\n",
        "        raise ValueError(\"At least one of model_softmax or model_topk must be provided.\")\n",
        "\n",
        "    n_classes = len(torch.unique(next(iter(dataloader))[1]))\n",
        "    if class_names is None:\n",
        "        class_names = [f\"Class {i}\" for i in range(n_classes)]\n",
        "\n",
        "    fig, axes = plt.subplots(1, n_models, figsize=(8 * n_models, 6), sharey=True)\n",
        "\n",
        "    if n_models == 1:\n",
        "        axes = [axes]\n",
        "\n",
        "    ax_idx = 0\n",
        "\n",
        "    if model_softmax:\n",
        "        dist_softmax, _, _ = get_distribution(model_softmax)\n",
        "        bar_width = 0.8 / model_softmax.n_experts\n",
        "        x = np.arange(n_classes)\n",
        "        for i in range(model_softmax.n_experts):\n",
        "            axes[ax_idx].bar(x + i * bar_width, dist_softmax[i], width=bar_width, label=f'Expert {i}')\n",
        "        axes[ax_idx].set_title('Expert Specialization (softmax routing)')\n",
        "        axes[ax_idx].set_xticks(x + bar_width * model_softmax.n_experts / 2)\n",
        "        axes[ax_idx].set_xticklabels(class_names)\n",
        "        axes[ax_idx].set_ylabel(\"Class Distribution per Expert\")\n",
        "        axes[ax_idx].legend(ncol=2, fontsize=8)\n",
        "        ax_idx += 1\n",
        "\n",
        "    if model_topk:\n",
        "        dist_topk, _, _ = get_distribution(model_topk)\n",
        "        bar_width = 0.8 / model_topk.n_experts\n",
        "        x = np.arange(n_classes)\n",
        "        for i in range(model_topk.n_experts):\n",
        "            axes[ax_idx].bar(x + i * bar_width, dist_topk[i], width=bar_width, label=f'Expert {i}')\n",
        "        axes[ax_idx].set_title('Expert Specialization (top-k routing)')\n",
        "        axes[ax_idx].set_xticks(x + bar_width * model_topk.n_experts / 2)\n",
        "        axes[ax_idx].set_xticklabels(class_names)\n",
        "        axes[ax_idx].legend(ncol=2, fontsize=8)\n",
        "\n",
        "    plt.tight_layout()\n",
        "    plt.show()\n"
      ],
      "metadata": {
        "id": "mOjVeONtdvVC"
      },
      "execution_count": null,
      "outputs": []
    },
    {
      "cell_type": "code",
      "source": [
        "visualize_expert_specialization_side_by_side(\n",
        "    model_softmax=moe_model_softmax,\n",
        "    model_topk=moe_model_topk,\n",
        "    dataloader=train_loader,\n",
        "    device=device,\n",
        "    class_names=['GALAXY', 'QSO', 'STAR']\n",
        ")\n"
      ],
      "metadata": {
        "colab": {
          "base_uri": "https://localhost:8080/",
          "height": 607
        },
        "id": "qgfVptB5sEgD",
        "outputId": "e4eca9d7-852e-4a02-97af-0017dfdb4364"
      },
      "execution_count": null,
      "outputs": [
        {
          "output_type": "display_data",
          "data": {
            "text/plain": [
              "<Figure size 1600x600 with 2 Axes>"
            ],
            "image/png": "[encoded data removed]"
          },
          "metadata": {}
        }
      ]
    },
    {
      "cell_type": "markdown",
      "source": [
        "# **Load Balancing**"
      ],
      "metadata": {
        "id": "uc2sEoZKOBVw"
      }
    },
    {
      "cell_type": "code",
      "source": [
        "def load_balancing_loss(router_scores):\n",
        "    size_of_batch, n_experts = router_scores.shape\n",
        "    mean_exp_usage = torch.mean(router_scores, dim=0)\n",
        "    balancing_loss = - torch.sum(mean_exp_usage * torch.log(mean_exp_usage + 1e-10))\n",
        "    return balancing_loss\n"
      ],
      "metadata": {
        "id": "zUIYYzpDOEB9"
      },
      "execution_count": null,
      "outputs": []
    },
    {
      "cell_type": "code",
      "source": [
        "class Mixture_of_Experts_with_load_balancing(nn.Module):\n",
        "    def __init__(self, inp_dim, hid_dim, out_dim, n_experts, k=2, routing_type='softmax'):\n",
        "        super().__init__()\n",
        "        self.n_experts = n_experts\n",
        "        self.k = k\n",
        "        self.routing_type = routing_type\n",
        "\n",
        "        self.experts = nn.ModuleList([Expert(inp_dim, hid_dim, out_dim) for _ in range(n_experts)])\n",
        "        self.router = Router(inp_dim, n_experts, routing_type, k)\n",
        "\n",
        "    def forward(self, x, return_router_scores=True):\n",
        "        if self.routing_type == 'softmax':\n",
        "            router_scores = self.router(x)\n",
        "            expert_outputs = torch.stack([expert(x) for expert in self.experts], dim=1)\n",
        "            output = (expert_outputs * router_scores.unsqueeze(-1)).sum(dim=1)\n",
        "            return (output, router_scores) if return_router_scores else output\n",
        "\n",
        "        elif self.routing_type == 'topk':\n",
        "            top_k_indices, top_k_vals = self.router(x)\n",
        "            expert_outputs = torch.stack([expert(x) for expert in self.experts], dim=1)\n",
        "            out_dim = expert_outputs.size(-1)\n",
        "            topk_outputs = torch.gather(\n",
        "                expert_outputs, dim=1,\n",
        "                index=top_k_indices.unsqueeze(-1).expand(-1, -1, out_dim)\n",
        "            )\n",
        "            output = (topk_outputs * top_k_vals.unsqueeze(-1)).sum(dim=1)\n",
        "\n",
        "            if return_router_scores:\n",
        "                # Build full routing score matrix (sparse)\n",
        "                scores = torch.zeros(x.size(0), self.n_experts, device=x.device)\n",
        "                for b in range(x.size(0)):\n",
        "                    scores[b, top_k_indices[b]] = top_k_vals[b]\n",
        "                return output, scores\n",
        "\n",
        "            return output\n"
      ],
      "metadata": {
        "id": "8tTqpVp5Rn6S"
      },
      "execution_count": null,
      "outputs": []
    },
    {
      "cell_type": "code",
      "source": [
        "def train_mixture_of_experts_with_load_balancing(model, dataloader, criterion, optimizer, n_epochs=20, device='cpu', alpha=0.01):\n",
        "    model.train()\n",
        "    model.to(device)\n",
        "\n",
        "    for epoch in range(n_epochs):\n",
        "        total_loss = 0.0\n",
        "        for inps, tgts in dataloader:\n",
        "            inps, tgts = inps.to(device), tgts.to(device)\n",
        "\n",
        "            optimizer.zero_grad()\n",
        "            outs, router_scores = model(inps, return_router_scores=True)\n",
        "            loss_cls = criterion(outs, tgts)\n",
        "            loss_balance = load_balancing_loss(router_scores)\n",
        "            loss = loss_cls + alpha * loss_balance\n",
        "            loss.backward()\n",
        "            optimizer.step()\n",
        "            total_loss += loss.item()\n",
        "\n",
        "        print(f\"Epoch {epoch+1}, Loss: {total_loss / len(dataloader):.4f}\")\n"
      ],
      "metadata": {
        "id": "E00Cs48_RYQO"
      },
      "execution_count": null,
      "outputs": []
    },
    {
      "cell_type": "code",
      "source": [
        "inp_dim = 6\n",
        "hid_dim = 128\n",
        "out_dim = 3          # classes: STAR, GALAXY, QSO\n",
        "n_experts = 8\n",
        "k = 2\n",
        "\n",
        "moe_model_topk_lb = Mixture_of_Experts_with_load_balancing(\n",
        "    inp_dim=inp_dim,\n",
        "    hid_dim=hid_dim,\n",
        "    out_dim=out_dim,\n",
        "    n_experts=n_experts,\n",
        "    k=k,\n",
        "    routing_type='topk'\n",
        ")\n",
        "\n",
        "print(\"\\n Training using Top-k gating with load-balancing.....\")\n",
        "\n",
        "train_mixture_of_experts_with_load_balancing(\n",
        "    model=moe_model_topk_lb,\n",
        "    dataloader=train_loader,\n",
        "    criterion=criterion,\n",
        "    optimizer=optimizer_topk,\n",
        "    n_epochs=100,\n",
        "    device=device,\n",
        "    alpha=0.01\n",
        ")"
      ],
      "metadata": {
        "colab": {
          "base_uri": "https://localhost:8080/"
        },
        "id": "PgghrUHTRZBu",
        "outputId": "c84bad8e-4266-4536-b7b5-ca7534ad8250"
      },
      "execution_count": null,
      "outputs": [
        {
          "output_type": "stream",
          "name": "stdout",
          "text": [
            "\n",
            " Training using Top-k gating with load-balancing.....\n",
            "Epoch 1, Loss: 1.5167\n",
            "Epoch 2, Loss: 1.5170\n",
            "Epoch 3, Loss: 1.5168\n",
            "Epoch 4, Loss: 1.5158\n",
            "Epoch 5, Loss: 1.5165\n",
            "Epoch 6, Loss: 1.5178\n",
            "Epoch 7, Loss: 1.5146\n",
            "Epoch 8, Loss: 1.5163\n",
            "Epoch 9, Loss: 1.5152\n",
            "Epoch 10, Loss: 1.5145\n",
            "Epoch 11, Loss: 1.5157\n",
            "Epoch 12, Loss: 1.5180\n",
            "Epoch 13, Loss: 1.5165\n",
            "Epoch 14, Loss: 1.5140\n",
            "Epoch 15, Loss: 1.5151\n",
            "Epoch 16, Loss: 1.5161\n",
            "Epoch 17, Loss: 1.5193\n",
            "Epoch 18, Loss: 1.5154\n",
            "Epoch 19, Loss: 1.5162\n",
            "Epoch 20, Loss: 1.5151\n",
            "Epoch 21, Loss: 1.5162\n",
            "Epoch 22, Loss: 1.5156\n",
            "Epoch 23, Loss: 1.5151\n",
            "Epoch 24, Loss: 1.5156\n",
            "Epoch 25, Loss: 1.5172\n",
            "Epoch 26, Loss: 1.5183\n",
            "Epoch 27, Loss: 1.5163\n",
            "Epoch 28, Loss: 1.5164\n",
            "Epoch 29, Loss: 1.5142\n",
            "Epoch 30, Loss: 1.5173\n",
            "Epoch 31, Loss: 1.5165\n",
            "Epoch 32, Loss: 1.5191\n",
            "Epoch 33, Loss: 1.5163\n",
            "Epoch 34, Loss: 1.5170\n",
            "Epoch 35, Loss: 1.5156\n",
            "Epoch 36, Loss: 1.5155\n",
            "Epoch 37, Loss: 1.5144\n",
            "Epoch 38, Loss: 1.5158\n",
            "Epoch 39, Loss: 1.5171\n",
            "Epoch 40, Loss: 1.5141\n",
            "Epoch 41, Loss: 1.5176\n",
            "Epoch 42, Loss: 1.5167\n",
            "Epoch 43, Loss: 1.5167\n",
            "Epoch 44, Loss: 1.5149\n",
            "Epoch 45, Loss: 1.5163\n",
            "Epoch 46, Loss: 1.5167\n",
            "Epoch 47, Loss: 1.5167\n",
            "Epoch 48, Loss: 1.5152\n",
            "Epoch 49, Loss: 1.5155\n",
            "Epoch 50, Loss: 1.5170\n",
            "Epoch 51, Loss: 1.5185\n",
            "Epoch 52, Loss: 1.5181\n",
            "Epoch 53, Loss: 1.5162\n",
            "Epoch 54, Loss: 1.5161\n",
            "Epoch 55, Loss: 1.5172\n",
            "Epoch 56, Loss: 1.5183\n",
            "Epoch 57, Loss: 1.5168\n",
            "Epoch 58, Loss: 1.5160\n",
            "Epoch 59, Loss: 1.5155\n",
            "Epoch 60, Loss: 1.5157\n",
            "Epoch 61, Loss: 1.5155\n",
            "Epoch 62, Loss: 1.5159\n",
            "Epoch 63, Loss: 1.5146\n",
            "Epoch 64, Loss: 1.5157\n",
            "Epoch 65, Loss: 1.5177\n",
            "Epoch 66, Loss: 1.5169\n",
            "Epoch 67, Loss: 1.5169\n",
            "Epoch 68, Loss: 1.5166\n",
            "Epoch 69, Loss: 1.5161\n",
            "Epoch 70, Loss: 1.5170\n",
            "Epoch 71, Loss: 1.5146\n",
            "Epoch 72, Loss: 1.5155\n",
            "Epoch 73, Loss: 1.5149\n",
            "Epoch 74, Loss: 1.5176\n",
            "Epoch 75, Loss: 1.5172\n",
            "Epoch 76, Loss: 1.5154\n",
            "Epoch 77, Loss: 1.5167\n",
            "Epoch 78, Loss: 1.5155\n",
            "Epoch 79, Loss: 1.5146\n",
            "Epoch 80, Loss: 1.5167\n",
            "Epoch 81, Loss: 1.5178\n",
            "Epoch 82, Loss: 1.5178\n",
            "Epoch 83, Loss: 1.5157\n",
            "Epoch 84, Loss: 1.5141\n",
            "Epoch 85, Loss: 1.5162\n",
            "Epoch 86, Loss: 1.5174\n",
            "Epoch 87, Loss: 1.5162\n",
            "Epoch 88, Loss: 1.5154\n",
            "Epoch 89, Loss: 1.5147\n",
            "Epoch 90, Loss: 1.5164\n",
            "Epoch 91, Loss: 1.5164\n",
            "Epoch 92, Loss: 1.5155\n",
            "Epoch 93, Loss: 1.5165\n",
            "Epoch 94, Loss: 1.5163\n",
            "Epoch 95, Loss: 1.5161\n",
            "Epoch 96, Loss: 1.5160\n",
            "Epoch 97, Loss: 1.5172\n",
            "Epoch 98, Loss: 1.5181\n",
            "Epoch 99, Loss: 1.5159\n",
            "Epoch 100, Loss: 1.5170\n"
          ]
        }
      ]
    },
    {
      "cell_type": "code",
      "source": [
        "visualize_expert_specialization_side_by_side(\n",
        "    model_softmax=None,\n",
        "    model_topk=moe_model_topk_lb,\n",
        "    dataloader=train_loader,\n",
        "    device=device,\n",
        "    class_names=['GALAXY', 'QSO', 'STAR']\n",
        ")\n"
      ],
      "metadata": {
        "colab": {
          "base_uri": "https://localhost:8080/",
          "height": 607
        },
        "id": "XntVyDhmTS_n",
        "outputId": "7b866f00-2a56-4af2-b7af-5e451a9312e1"
      },
      "execution_count": null,
      "outputs": [
        {
          "output_type": "display_data",
          "data": {
            "text/plain": [
              "<Figure size 800x600 with 1 Axes>"
            ],
            "image/png": "[encoded data removed]"
          },
          "metadata": {}
        }
      ]
    }
  ]
}