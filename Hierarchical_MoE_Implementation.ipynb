{
  "nbformat": 4,
  "nbformat_minor": 0,
  "metadata": {
    "colab": {
      "provenance": []
    },
    "kernelspec": {
      "name": "python3",
      "display_name": "Python 3"
    },
    "language_info": {
      "name": "python"
    }
  },
  "cells": [
    {
      "cell_type": "markdown",
      "source": [
        "# **Import modules**"
      ],
      "metadata": {
        "id": "hxqNhT2A2Hvl"
      }
    },
    {
      "cell_type": "code",
      "execution_count": null,
      "metadata": {
        "id": "69s4DlGj2CPI"
      },
      "outputs": [],
      "source": [
        "import torch\n",
        "import torch.nn as nn\n",
        "import torch.nn.functional as F\n",
        "import torch\n",
        "from torch.utils.data import TensorDataset, DataLoader, Dataset\n",
        "from torchvision import transforms\n",
        "import matplotlib.pyplot as plt\n",
        "import h5py\n",
        "import pandas as pd\n",
        "from sklearn.preprocessing import LabelEncoder, StandardScaler\n",
        "import numpy as np"
      ]
    },
    {
      "cell_type": "markdown",
      "source": [
        "# **Load Dataset**"
      ],
      "metadata": {
        "id": "dzdINL7I2TQ0"
      }
    },
    {
      "cell_type": "code",
      "source": [
        "from google.colab import drive\n",
        "drive.mount('/content/drive')"
      ],
      "metadata": {
        "colab": {
          "base_uri": "https://localhost:8080/"
        },
        "id": "GaIzss2f2Yri",
        "outputId": "e4dba067-d674-41ae-cdb9-cd7c4e9fcc67"
      },
      "execution_count": null,
      "outputs": [
        {
          "output_type": "stream",
          "name": "stdout",
          "text": [
            "Mounted at /content/drive\n"
          ]
        }
      ]
    },
    {
      "cell_type": "code",
      "source": [
        "df = pd.read_csv(\"/content/drive/MyDrive/star_classification.csv\")\n",
        "df.columns"
      ],
      "metadata": {
        "colab": {
          "base_uri": "https://localhost:8080/"
        },
        "id": "9UsJWkRl2jNJ",
        "outputId": "cc038229-d4cd-4bd6-e2dd-138e3f911763"
      },
      "execution_count": null,
      "outputs": [
        {
          "output_type": "execute_result",
          "data": {
            "text/plain": [
              "Index(['obj_ID', 'alpha', 'delta', 'u', 'g', 'r', 'i', 'z', 'run_ID',\n",
              "       'rerun_ID', 'cam_col', 'field_ID', 'spec_obj_ID', 'class', 'redshift',\n",
              "       'plate', 'MJD', 'fiber_ID'],\n",
              "      dtype='object')"
            ]
          },
          "metadata": {},
          "execution_count": 3
        }
      ]
    },
    {
      "cell_type": "code",
      "source": [
        "df['class'].unique()"
      ],
      "metadata": {
        "colab": {
          "base_uri": "https://localhost:8080/"
        },
        "id": "64Pp0ge_2lFj",
        "outputId": "55b3ae28-be76-406f-c997-f873c95af043"
      },
      "execution_count": null,
      "outputs": [
        {
          "output_type": "execute_result",
          "data": {
            "text/plain": [
              "array(['GALAXY', 'QSO', 'STAR'], dtype=object)"
            ]
          },
          "metadata": {},
          "execution_count": 4
        }
      ]
    },
    {
      "cell_type": "code",
      "source": [
        "input_cols = ['u', 'g', 'r', 'i', 'z', 'redshift']\n",
        "X = df[input_cols].values  # shape (N, 6)\n",
        "\n",
        "#  Encode class labels (e.g., STAR=0, GALAXY=1, QSO=2)\n",
        "label_encoder = LabelEncoder()\n",
        "y = label_encoder.fit_transform(df['class'])  # shape (N,)\n",
        "\n",
        "#  Normalize inputs\n",
        "scaler = StandardScaler()\n",
        "X = scaler.fit_transform(X)"
      ],
      "metadata": {
        "id": "Id5RmwNj2m_4"
      },
      "execution_count": null,
      "outputs": []
    },
    {
      "cell_type": "code",
      "source": [
        "class StarDataset(Dataset):\n",
        "    def __init__(self, X, y):\n",
        "        self.X = torch.tensor(X, dtype=torch.float32)\n",
        "        self.y = torch.tensor(y, dtype=torch.long)\n",
        "\n",
        "    def __len__(self):\n",
        "        return len(self.y)\n",
        "\n",
        "    def __getitem__(self, idx):\n",
        "        return self.X[idx], self.y[idx]\n",
        "\n",
        "train_loader = DataLoader(StarDataset(X, y), batch_size=32, shuffle=True)"
      ],
      "metadata": {
        "id": "uqNk5pih2p1Y"
      },
      "execution_count": null,
      "outputs": []
    },
    {
      "cell_type": "markdown",
      "source": [
        "# **The Router**"
      ],
      "metadata": {
        "id": "Sr_kgrQB3Ufb"
      }
    },
    {
      "cell_type": "code",
      "source": [
        "class TopK_Router(nn.Module):\n",
        "    def __init__(self, inp_dim, n_choices, k=1, return_indices=False):\n",
        "        super().__init__()\n",
        "        self.k = k\n",
        "        self.n_choices = n_choices\n",
        "        self.linear = nn.Linear(inp_dim, n_choices)\n",
        "        self.return_indices = return_indices\n",
        "\n",
        "    def forward(self, x):\n",
        "        logits = self.linear(x)  # [B, n_choices]\n",
        "        probs = F.softmax(logits, dim=-1)  # [B, n_choices]\n",
        "        top_vals, top_idx = torch.topk(probs, self.k, dim=-1)  # [B, k], [B, k]\n",
        "        top_vals = top_vals / (top_vals.sum(dim=-1, keepdim=True) + 1e-9)  # normalize\n",
        "\n",
        "        gate = torch.zeros_like(probs).scatter(1, top_idx, top_vals)  # [B, n_choices]\n",
        "\n",
        "        if self.return_indices:\n",
        "            return top_idx, top_vals  # for expert tracking\n",
        "        return gate  # for weighted combination\n"
      ],
      "metadata": {
        "id": "B_nCyQ_83XcK"
      },
      "execution_count": null,
      "outputs": []
    },
    {
      "cell_type": "markdown",
      "source": [
        "# **The Expert**"
      ],
      "metadata": {
        "id": "vrZoR23q22Un"
      }
    },
    {
      "cell_type": "code",
      "source": [
        "import torch\n",
        "import torch.nn as nn\n",
        "import torch.nn.functional as F\n",
        "\n",
        "class Expert(nn.Module):\n",
        "    def __init__(self, inp_dim, hid_dim, out_dim):\n",
        "        super().__init__()\n",
        "        self.net = nn.Sequential(\n",
        "            nn.Linear(inp_dim, hid_dim),\n",
        "            nn.ReLU(),\n",
        "            nn.Linear(hid_dim, out_dim)\n",
        "        )\n",
        "\n",
        "    def forward(self, x):\n",
        "        return self.net(x)\n",
        "\n",
        "class ExpertGroup(nn.Module):\n",
        "    def __init__(self, inp_dim, hid_dim, out_dim, n_inner_experts):\n",
        "        super().__init__()\n",
        "        self.inner_gate = TopK_Router(inp_dim, n_inner_experts)\n",
        "        self.inner_experts = nn.ModuleList([\n",
        "            Expert(inp_dim, hid_dim, out_dim) for _ in range(n_inner_experts)\n",
        "        ])\n",
        "\n",
        "    def forward(self, x):\n",
        "        weights = self.inner_gate(x)  # [B, n_inner_experts]\n",
        "        outputs = torch.stack([expert(x) for expert in self.inner_experts], dim=1)  # [B, n_inner_experts, out_dim]\n",
        "        return torch.sum(outputs * weights.unsqueeze(-1), dim=1)  # [B, out_dim]\n"
      ],
      "metadata": {
        "id": "3o325ZOZ24Q6"
      },
      "execution_count": null,
      "outputs": []
    },
    {
      "cell_type": "markdown",
      "source": [
        "# **The Hierarchical Mixture of Experts**"
      ],
      "metadata": {
        "id": "qNubdTLm3lId"
      }
    },
    {
      "cell_type": "code",
      "source": [
        "class HierarchicalMoE(nn.Module):\n",
        "    def __init__(self, inp_dim, hid_dim, out_dim, n_outer=4, n_inner=4):\n",
        "        super().__init__()\n",
        "        self.outer_gate = TopK_Router(inp_dim, n_outer)\n",
        "        self.expert_groups = nn.ModuleList([\n",
        "            ExpertGroup(inp_dim, hid_dim, out_dim, n_inner) for _ in range(n_outer)\n",
        "        ])\n",
        "\n",
        "    def forward(self, x):\n",
        "        outer_weights = self.outer_gate(x)  # [B, n_outer]\n",
        "        outputs = torch.stack([\n",
        "            group(x) for group in self.expert_groups  # each: [B, out_dim]\n",
        "        ], dim=1)  # [B, n_outer, out_dim]\n",
        "        final_output = torch.sum(outputs * outer_weights.unsqueeze(-1), dim=1)  # [B, out_dim]\n",
        "        return final_output\n"
      ],
      "metadata": {
        "id": "whoo1anP3p3F"
      },
      "execution_count": null,
      "outputs": []
    },
    {
      "cell_type": "markdown",
      "source": [
        "# **Training**"
      ],
      "metadata": {
        "id": "AS0GICYB3vk-"
      }
    },
    {
      "cell_type": "code",
      "source": [
        "model = HierarchicalMoE(inp_dim=6, hid_dim=128, out_dim=3)\n",
        "optimizer = torch.optim.Adam(model.parameters(), lr=1e-3)\n",
        "criterion = nn.CrossEntropyLoss()\n",
        "\n",
        "for epoch in range(100):\n",
        "    model.train()\n",
        "    total_loss = 0\n",
        "    for xb, yb in train_loader:\n",
        "        optimizer.zero_grad()\n",
        "        preds = model(xb)\n",
        "        loss = criterion(preds, yb)\n",
        "        loss.backward()\n",
        "        optimizer.step()\n",
        "        total_loss += loss.item()\n",
        "    print(f\"Epoch {epoch+1}, Loss: {total_loss/len(train_loader):.4f}\")\n"
      ],
      "metadata": {
        "colab": {
          "base_uri": "https://localhost:8080/"
        },
        "id": "XlxJzb_c3xO_",
        "outputId": "f019ab12-6119-4648-e707-8f5ff3bc5374"
      },
      "execution_count": null,
      "outputs": [
        {
          "output_type": "stream",
          "name": "stdout",
          "text": [
            "Epoch 1, Loss: 0.2301\n",
            "Epoch 2, Loss: 0.1449\n",
            "Epoch 3, Loss: 0.1297\n",
            "Epoch 4, Loss: 0.1215\n",
            "Epoch 5, Loss: 0.1161\n",
            "Epoch 6, Loss: 0.1125\n",
            "Epoch 7, Loss: 0.1099\n",
            "Epoch 8, Loss: 0.1085\n",
            "Epoch 9, Loss: 0.1073\n",
            "Epoch 10, Loss: 0.1057\n",
            "Epoch 11, Loss: 0.1049\n",
            "Epoch 12, Loss: 0.1043\n",
            "Epoch 13, Loss: 0.1029\n",
            "Epoch 14, Loss: 0.1026\n",
            "Epoch 15, Loss: 0.1019\n",
            "Epoch 16, Loss: 0.1010\n",
            "Epoch 17, Loss: 0.1007\n",
            "Epoch 18, Loss: 0.1000\n",
            "Epoch 19, Loss: 0.0999\n",
            "Epoch 20, Loss: 0.0989\n",
            "Epoch 21, Loss: 0.0988\n",
            "Epoch 22, Loss: 0.0990\n",
            "Epoch 23, Loss: 0.0980\n",
            "Epoch 24, Loss: 0.0978\n",
            "Epoch 25, Loss: 0.0977\n",
            "Epoch 26, Loss: 0.0974\n",
            "Epoch 27, Loss: 0.0974\n",
            "Epoch 28, Loss: 0.0967\n",
            "Epoch 29, Loss: 0.0966\n",
            "Epoch 30, Loss: 0.0968\n",
            "Epoch 31, Loss: 0.0962\n",
            "Epoch 32, Loss: 0.0958\n",
            "Epoch 33, Loss: 0.0955\n",
            "Epoch 34, Loss: 0.0955\n",
            "Epoch 35, Loss: 0.0947\n",
            "Epoch 36, Loss: 0.0951\n",
            "Epoch 37, Loss: 0.0950\n",
            "Epoch 38, Loss: 0.0950\n",
            "Epoch 39, Loss: 0.0940\n",
            "Epoch 40, Loss: 0.0945\n",
            "Epoch 41, Loss: 0.0942\n",
            "Epoch 42, Loss: 0.0940\n",
            "Epoch 43, Loss: 0.0937\n",
            "Epoch 44, Loss: 0.0939\n",
            "Epoch 45, Loss: 0.0933\n",
            "Epoch 46, Loss: 0.0934\n",
            "Epoch 47, Loss: 0.0933\n",
            "Epoch 48, Loss: 0.0929\n",
            "Epoch 49, Loss: 0.0922\n",
            "Epoch 50, Loss: 0.0927\n",
            "Epoch 51, Loss: 0.0923\n",
            "Epoch 52, Loss: 0.0926\n",
            "Epoch 53, Loss: 0.0923\n",
            "Epoch 54, Loss: 0.0924\n",
            "Epoch 55, Loss: 0.0921\n",
            "Epoch 56, Loss: 0.0924\n",
            "Epoch 57, Loss: 0.0919\n",
            "Epoch 58, Loss: 0.0925\n",
            "Epoch 59, Loss: 0.0921\n",
            "Epoch 60, Loss: 0.0924\n",
            "Epoch 61, Loss: 0.0917\n",
            "Epoch 62, Loss: 0.0912\n",
            "Epoch 63, Loss: 0.0912\n",
            "Epoch 64, Loss: 0.0912\n",
            "Epoch 65, Loss: 0.0911\n",
            "Epoch 66, Loss: 0.0919\n",
            "Epoch 67, Loss: 0.0913\n",
            "Epoch 68, Loss: 0.0911\n",
            "Epoch 69, Loss: 0.0910\n",
            "Epoch 70, Loss: 0.0909\n",
            "Epoch 71, Loss: 0.0914\n",
            "Epoch 72, Loss: 0.0901\n",
            "Epoch 73, Loss: 0.0908\n",
            "Epoch 74, Loss: 0.0905\n",
            "Epoch 75, Loss: 0.0904\n",
            "Epoch 76, Loss: 0.0903\n",
            "Epoch 77, Loss: 0.0903\n",
            "Epoch 78, Loss: 0.0902\n",
            "Epoch 79, Loss: 0.0898\n",
            "Epoch 80, Loss: 0.0901\n",
            "Epoch 81, Loss: 0.0899\n",
            "Epoch 82, Loss: 0.0894\n",
            "Epoch 83, Loss: 0.0900\n",
            "Epoch 84, Loss: 0.0896\n",
            "Epoch 85, Loss: 0.0892\n",
            "Epoch 86, Loss: 0.0898\n",
            "Epoch 87, Loss: 0.0897\n",
            "Epoch 88, Loss: 0.0897\n",
            "Epoch 89, Loss: 0.0894\n",
            "Epoch 90, Loss: 0.0899\n",
            "Epoch 91, Loss: 0.0893\n",
            "Epoch 92, Loss: 0.0893\n",
            "Epoch 93, Loss: 0.0888\n",
            "Epoch 94, Loss: 0.0886\n",
            "Epoch 95, Loss: 0.0893\n",
            "Epoch 96, Loss: 0.0886\n",
            "Epoch 97, Loss: 0.0886\n",
            "Epoch 98, Loss: 0.0885\n",
            "Epoch 99, Loss: 0.0891\n",
            "Epoch 100, Loss: 0.0889\n"
          ]
        }
      ]
    },
    {
      "cell_type": "markdown",
      "source": [
        "# **Inferencing**"
      ],
      "metadata": {
        "id": "fzVn9rg14kaP"
      }
    },
    {
      "cell_type": "code",
      "source": [
        "import torch\n",
        "import numpy as np\n",
        "import matplotlib.pyplot as plt\n",
        "\n",
        "def visualize_hierarchical_expert_usage(model, dataloader, device='cpu'):\n",
        "    model.eval()\n",
        "    model.to(device)\n",
        "\n",
        "    n_outer = len(model.expert_groups)\n",
        "    n_inner = len(model.expert_groups[0].inner_experts)\n",
        "\n",
        "    outer_counts = torch.zeros(n_outer, device=device)\n",
        "    inner_counts = torch.zeros((n_outer, n_inner), device=device)\n",
        "\n",
        "    with torch.no_grad():\n",
        "        for xb, _ in dataloader:\n",
        "            xb = xb.to(device)\n",
        "\n",
        "            # Outer gate → [B, n_outer], get top-1\n",
        "            outer_weights = model.outer_gate(xb)\n",
        "            outer_selected = torch.argmax(outer_weights, dim=1)\n",
        "\n",
        "            for i, o_idx in enumerate(outer_selected):\n",
        "                x_single = xb[i:i+1]  # batch of 1\n",
        "\n",
        "                # Query inner gate from the selected expert group\n",
        "                inner_weights = model.expert_groups[o_idx].inner_gate(x_single)\n",
        "                inner_selected = torch.argmax(inner_weights, dim=1)[0]\n",
        "\n",
        "                outer_counts[o_idx] += 1\n",
        "                inner_counts[o_idx, inner_selected] += 1\n",
        "\n",
        "    # === Plotting ===\n",
        "    fig, (ax1, ax2) = plt.subplots(1, 2, figsize=(14, 5))\n",
        "\n",
        "    # Outer expert usage\n",
        "    ax1.bar(range(n_outer), outer_counts.cpu().numpy())\n",
        "    ax1.set_title(\"Outer Expert Usage\")\n",
        "    ax1.set_xlabel(\"Outer Expert Index\")\n",
        "    ax1.set_ylabel(\"Count\")\n",
        "\n",
        "    # Inner expert usage per outer expert\n",
        "    bar_width = 0.8 / n_outer\n",
        "    x = np.arange(n_inner)\n",
        "    for outer_idx in range(n_outer):\n",
        "        ax2.bar(x + outer_idx * bar_width,\n",
        "                inner_counts[outer_idx].cpu().numpy(),\n",
        "                width=bar_width,\n",
        "                label=f'Outer {outer_idx}')\n",
        "    ax2.set_xticks(x + bar_width * (n_outer / 2))\n",
        "    ax2.set_xticklabels([f'Inner {i}' for i in range(n_inner)])\n",
        "    ax2.set_ylabel(\"Count\")\n",
        "    ax2.set_title(\"Inner Expert Usage per Outer Expert\")\n",
        "    ax2.legend()\n",
        "\n",
        "    plt.tight_layout()\n",
        "    plt.show()\n"
      ],
      "metadata": {
        "id": "DkCgHSUF4mX_"
      },
      "execution_count": null,
      "outputs": []
    },
    {
      "cell_type": "code",
      "source": [
        "visualize_hierarchical_expert_usage(model, train_loader, device='cuda' if torch.cuda.is_available() else 'cpu')\n"
      ],
      "metadata": {
        "colab": {
          "base_uri": "https://localhost:8080/"
        },
        "id": "K2gdZNPk4nWz",
        "outputId": "f0505275-ea16-4f73-991e-01e336e563b4"
      },
      "execution_count": null,
      "outputs": [
        {
          "output_type": "display_data",
          "data": {
            "text/plain": [
              "<Figure size 1400x500 with 2 Axes>"
            ],
            "image/png": "[encoded data removed]"
          },
          "metadata": {}
        }
      ]
    }
  ]
}